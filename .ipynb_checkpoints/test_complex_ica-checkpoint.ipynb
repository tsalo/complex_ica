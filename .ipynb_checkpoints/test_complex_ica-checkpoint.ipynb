{
 "cells": [
  {
   "cell_type": "code",
   "execution_count": 1,
   "id": "cb21ce26-fcd6-4250-9bcc-86e5cfaa9cd5",
   "metadata": {
    "tags": []
   },
   "outputs": [],
   "source": [
    "import os\n",
    "\n",
    "import nibabel as nb\n",
    "import numpy as np\n",
    "from nilearn import masking\n",
    "\n",
    "in_dir = \"/Users/taylor/Documents/datasets/mobile-phenomics/problem-subjects/new-set/sub-04/ses-3/func\"\n",
    "mag_file = os.path.join(in_dir, \"sub-04_ses-3_task-fracback_acq-MBME_echo-3_part-mag_bold.nii.gz\")\n",
    "ph_file = os.path.join(in_dir, \"sub-04_ses-3_task-fracback_acq-MBME_echo-3_part-phase_bold.nii.gz\")"
   ]
  },
  {
   "cell_type": "code",
   "execution_count": 2,
   "id": "9dc941e8-59d9-4d33-a84c-0ce9a38bd682",
   "metadata": {
    "tags": []
   },
   "outputs": [],
   "source": [
    "mask = masking.compute_epi_mask(mag_file)\n",
    "mag_arr = masking.apply_mask(mag_file, mask).astype(np.float32)\n",
    "ph_arr = masking.apply_mask(ph_file, mask).astype(np.float32)\n",
    "\n",
    "imax = ph_arr.max()\n",
    "imin = ph_arr.min()\n",
    "scaled = (ph_arr - imin) / (imax - imin)\n",
    "rad_data = 2 * np.pi * scaled\n",
    "\n",
    "complex_arr = mag_arr * (np.cos(rad_data) + np.sin(ph_arr)*1j)\n",
    "del mag_arr, ph_arr, scaled, rad_data"
   ]
  },
  {
   "cell_type": "code",
   "execution_count": 3,
   "id": "b9ab5d6f-dcf6-4355-adf5-8803858fb058",
   "metadata": {
    "tags": []
   },
   "outputs": [],
   "source": [
    "from complex_FastICA import complex_FastICA"
   ]
  },
  {
   "cell_type": "code",
   "execution_count": null,
   "id": "7027dec9-a517-40eb-b555-8587619570ef",
   "metadata": {
    "tags": []
   },
   "outputs": [],
   "source": [
    "out = complex_FastICA(complex_arr.T, algorithm=\"deflation\", n_components=30)"
   ]
  },
  {
   "cell_type": "code",
   "execution_count": null,
   "id": "b52dfe4d-0f56-4ae8-ba5b-54df956990a4",
   "metadata": {},
   "outputs": [],
   "source": []
  }
 ],
 "metadata": {
  "kernelspec": {
   "display_name": "Python 3 (ipykernel)",
   "language": "python",
   "name": "python3"
  },
  "language_info": {
   "codemirror_mode": {
    "name": "ipython",
    "version": 3
   },
   "file_extension": ".py",
   "mimetype": "text/x-python",
   "name": "python",
   "nbconvert_exporter": "python",
   "pygments_lexer": "ipython3",
   "version": "3.9.17"
  }
 },
 "nbformat": 4,
 "nbformat_minor": 5
}
